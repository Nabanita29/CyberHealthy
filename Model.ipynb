{
  "nbformat": 4,
  "nbformat_minor": 0,
  "metadata": {
    "colab": {
      "provenance": [],
      "authorship_tag": "ABX9TyMiF10420JaJ2kUKXlkbcoK",
      "include_colab_link": true
    },
    "kernelspec": {
      "name": "python3",
      "display_name": "Python 3"
    },
    "language_info": {
      "name": "python"
    }
  },
  "cells": [
    {
      "cell_type": "markdown",
      "metadata": {
        "id": "view-in-github",
        "colab_type": "text"
      },
      "source": [
        "<a href=\"https://colab.research.google.com/github/Nabanita29/CyberHealthy/blob/main/Model.ipynb\" target=\"_parent\"><img src=\"https://colab.research.google.com/assets/colab-badge.svg\" alt=\"Open In Colab\"/></a>"
      ]
    },
    {
      "cell_type": "code",
      "execution_count": null,
      "metadata": {
        "colab": {
          "base_uri": "https://localhost:8080/"
        },
        "id": "giDY-THEa-vL",
        "outputId": "1a7f80be-671b-4dc6-af4a-f459caad5bb6"
      },
      "outputs": [
        {
          "output_type": "stream",
          "name": "stdout",
          "text": [
            "Looking in indexes: https://pypi.org/simple, https://us-python.pkg.dev/colab-wheels/public/simple/\n",
            "Requirement already satisfied: pandas in /usr/local/lib/python3.10/dist-packages (1.5.3)\n",
            "Requirement already satisfied: textblob in /usr/local/lib/python3.10/dist-packages (0.17.1)\n",
            "Requirement already satisfied: python-dateutil>=2.8.1 in /usr/local/lib/python3.10/dist-packages (from pandas) (2.8.2)\n",
            "Requirement already satisfied: pytz>=2020.1 in /usr/local/lib/python3.10/dist-packages (from pandas) (2022.7.1)\n",
            "Requirement already satisfied: numpy>=1.21.0 in /usr/local/lib/python3.10/dist-packages (from pandas) (1.22.4)\n",
            "Requirement already satisfied: nltk>=3.1 in /usr/local/lib/python3.10/dist-packages (from textblob) (3.8.1)\n",
            "Requirement already satisfied: click in /usr/local/lib/python3.10/dist-packages (from nltk>=3.1->textblob) (8.1.3)\n",
            "Requirement already satisfied: joblib in /usr/local/lib/python3.10/dist-packages (from nltk>=3.1->textblob) (1.2.0)\n",
            "Requirement already satisfied: regex>=2021.8.3 in /usr/local/lib/python3.10/dist-packages (from nltk>=3.1->textblob) (2022.10.31)\n",
            "Requirement already satisfied: tqdm in /usr/local/lib/python3.10/dist-packages (from nltk>=3.1->textblob) (4.65.0)\n",
            "Requirement already satisfied: six>=1.5 in /usr/local/lib/python3.10/dist-packages (from python-dateutil>=2.8.1->pandas) (1.16.0)\n"
          ]
        },
        {
          "output_type": "stream",
          "name": "stderr",
          "text": [
            "[nltk_data] Downloading package stopwords to /root/nltk_data...\n",
            "[nltk_data]   Package stopwords is already up-to-date!\n",
            "[nltk_data] Downloading package wordnet to /root/nltk_data...\n",
            "[nltk_data]   Package wordnet is already up-to-date!\n"
          ]
        },
        {
          "output_type": "stream",
          "name": "stdout",
          "text": [
            "Drive already mounted at /content/drive; to attempt to forcibly remount, call drive.mount(\"/content/drive\", force_remount=True).\n",
            "Accuracy: 0.8\n",
            "Please enter your text: You're a burden to everyone around you. No one wants you here.\n",
            "I'm so sorry to hear that someone would say something so hurtful and negative to you. Please know that you are not a burden to anyone, and you have value and worth just by being you. Your presence in this world is important and meaningful, and there are people who care about you and want you to be here.\n",
            "\n",
            "It's important to remember that negative comments from others don't define who you are or your worth as a person. You have your own unique talents, strengths, and qualities that make you special and irreplaceable. Don't let someone else's hurtful words bring you down or make you feel unworthy.\n",
            "\n",
            "If you find that negative comments from others are affecting your mental health or self-esteem, it might be helpful to talk to someone you trust or seek support from a mental health professional. Remember that you have the power to create positive change in your life, and there are people who want to help you do that. Keep taking care of yourself and believe in your own self-worth."
          ]
        }
      ],
      "source": [
        "!pip install pandas textblob\n",
        "from google.colab import drive\n",
        "drive.mount('/content/drive')\n",
        "import pandas as pd\n",
        "from sklearn.model_selection import train_test_split\n",
        "from sklearn.feature_extraction.text import CountVectorizer\n",
        "from sklearn.feature_extraction.text import TfidfVectorizer\n",
        "from sklearn.svm import SVC\n",
        "import re\n",
        "import nltk\n",
        "from nltk.corpus import stopwords\n",
        "from nltk.stem import WordNetLemmatizer\n",
        "\n",
        "# Step 1: Data Collection\n",
        "data = pd.read_excel(\"/content/datasethackathon.xlsx\")\n",
        "\n",
        "# Step 2: Preprocessing\n",
        "X = data[\"Harmful Comment\"]\n",
        "y = data[\"Sentiment Analysis\"]\n",
        "\n",
        "# Text Preprocessing\n",
        "nltk.download('stopwords')\n",
        "nltk.download('wordnet')\n",
        "stopwords = set(stopwords.words('english'))\n",
        "lemmatizer = WordNetLemmatizer()\n",
        "\n",
        "def preprocess_text(text):\n",
        "    # Remove special characters and digits\n",
        "    text = re.sub(r'\\W', ' ', text)\n",
        "    text = re.sub(r'\\s+[a-zA-Z]\\s+', ' ', text)\n",
        "    text = re.sub(r'\\^[a-zA-Z]\\s+', ' ', text)\n",
        "    text = re.sub(r'\\s+', ' ', text, flags=re.I)\n",
        "    text = re.sub(r'^b\\s+', '', text)\n",
        "\n",
        "    # Convert to lowercase\n",
        "    text = text.lower()\n",
        "\n",
        "    # Remove stopwords and lemmatize\n",
        "    text = ' '.join([lemmatizer.lemmatize(word) for word in text.split() if word not in stopwords])\n",
        "\n",
        "    return text\n",
        "\n",
        "X = X.apply(preprocess_text)\n",
        "\n",
        "# Split the data into training and testing sets\n",
        "X_train, X_test, y_train, y_test = train_test_split(X, y, test_size=0.2, random_state=42)\n",
        "\n",
        "# Apply CountVectorizer or TF-IDF to convert text into numerical features\n",
        "vectorizer = TfidfVectorizer(ngram_range=(1, 2))\n",
        "X_train_vectors = vectorizer.fit_transform(X_train)\n",
        "X_test_vectors = vectorizer.transform(X_test)\n",
        "\n",
        "# Step 3: Emotion Recognition\n",
        "# Train a Support Vector Machine (SVM) classifier on the training data\n",
        "classifier = SVC()\n",
        "classifier.fit(X_train_vectors, y_train)\n",
        "\n",
        "# Predict the emotions for the test data\n",
        "predictions = classifier.predict(X_test_vectors)\n",
        "\n",
        "# Evaluate the performance of the classifier\n",
        "accuracy = (predictions == y_test).mean()\n",
        "print(\"Accuracy:\", accuracy)\n",
        "\n",
        "def process_user_data(user_input):\n",
        "    preprocessed_input = preprocess_text(user_input)\n",
        "    input_vector = vectorizer.transform([preprocessed_input])\n",
        "    prediction = classifier.predict(input_vector)\n",
        "    return prediction\n",
        "\n",
        "user_input = input(\"Please enter your text: \")\n",
        "prediction = process_user_data(user_input)\n",
        "\n",
        "\n",
        "result = prediction[0]\n",
        "\n",
        "import poe\n",
        "client = poe.Client(\"ywwTizRu5Ln1AKYvEDOqEg%3D%3D\") # API Token\n",
        "bot = client.get_bots(\"chinchilla\") # gpt 3.5 model\n",
        "rule = \") and please say something to encourage him if the comment is negative. On the contrary, please provide some positive reply\"\n",
        "message = f\"It is an {result} comment (\" + user_input + rule\n",
        "for chunk in client.send_message(\"chinchilla\", message):\n",
        "    print(chunk[\"text_new\"], end=\"\", flush=True)\n"
      ]
    },
    {
      "cell_type": "code",
      "source": [
        "!pip3 install poe-api"
      ],
      "metadata": {
        "colab": {
          "base_uri": "https://localhost:8080/"
        },
        "id": "6dIS3Y7rbmk_",
        "outputId": "e4b4937d-5845-4593-cbe5-65acda712efd"
      },
      "execution_count": null,
      "outputs": [
        {
          "output_type": "stream",
          "name": "stdout",
          "text": [
            "Looking in indexes: https://pypi.org/simple, https://us-python.pkg.dev/colab-wheels/public/simple/\n",
            "Collecting poe-api\n",
            "  Downloading poe_api-0.4.6-py3-none-any.whl (40 kB)\n",
            "\u001b[2K     \u001b[90m━━━━━━━━━━━━━━━━━━━━━━━━━━━━━━━━━━━━━━━━\u001b[0m \u001b[32m40.9/40.9 kB\u001b[0m \u001b[31m3.5 MB/s\u001b[0m eta \u001b[36m0:00:00\u001b[0m\n",
            "\u001b[?25hCollecting python-socks (from poe-api)\n",
            "  Downloading python_socks-2.3.0-py3-none-any.whl (53 kB)\n",
            "\u001b[2K     \u001b[90m━━━━━━━━━━━━━━━━━━━━━━━━━━━━━━━━━━━━━━━━\u001b[0m \u001b[32m53.3/53.3 kB\u001b[0m \u001b[31m2.4 MB/s\u001b[0m eta \u001b[36m0:00:00\u001b[0m\n",
            "\u001b[?25hRequirement already satisfied: requests[socks] in /usr/local/lib/python3.10/dist-packages (from poe-api) (2.27.1)\n",
            "Collecting tls-client (from poe-api)\n",
            "  Downloading tls_client-0.2.1-py3-none-any.whl (35.2 MB)\n",
            "\u001b[2K     \u001b[90m━━━━━━━━━━━━━━━━━━━━━━━━━━━━━━━━━━━━━━━━\u001b[0m \u001b[32m35.2/35.2 MB\u001b[0m \u001b[31m11.0 MB/s\u001b[0m eta \u001b[36m0:00:00\u001b[0m\n",
            "\u001b[?25hRequirement already satisfied: websocket-client in /usr/local/lib/python3.10/dist-packages (from poe-api) (1.5.1)\n",
            "Requirement already satisfied: urllib3<1.27,>=1.21.1 in /usr/local/lib/python3.10/dist-packages (from requests[socks]->poe-api) (1.26.15)\n",
            "Requirement already satisfied: certifi>=2017.4.17 in /usr/local/lib/python3.10/dist-packages (from requests[socks]->poe-api) (2022.12.7)\n",
            "Requirement already satisfied: charset-normalizer~=2.0.0 in /usr/local/lib/python3.10/dist-packages (from requests[socks]->poe-api) (2.0.12)\n",
            "Requirement already satisfied: idna<4,>=2.5 in /usr/local/lib/python3.10/dist-packages (from requests[socks]->poe-api) (3.4)\n",
            "Requirement already satisfied: PySocks!=1.5.7,>=1.5.6 in /usr/local/lib/python3.10/dist-packages (from requests[socks]->poe-api) (1.7.1)\n",
            "Installing collected packages: tls-client, python-socks, poe-api\n",
            "Successfully installed poe-api-0.4.6 python-socks-2.3.0 tls-client-0.2.1\n"
          ]
        }
      ]
    },
    {
      "cell_type": "code",
      "source": [],
      "metadata": {
        "id": "EzaTTtxzbOAV"
      },
      "execution_count": null,
      "outputs": []
    }
  ]
}